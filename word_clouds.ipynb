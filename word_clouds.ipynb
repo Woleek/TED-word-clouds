{
 "cells": [
  {
   "attachments": {},
   "cell_type": "markdown",
   "metadata": {},
   "source": [
    "Download dataset"
   ]
  },
  {
   "cell_type": "code",
   "execution_count": 5,
   "metadata": {
    "vscode": {
     "languageId": "shellscript"
    }
   },
   "outputs": [
    {
     "name": "stdout",
     "output_type": "stream",
     "text": [
      "Downloading ted-ultimate-dataset.zip to c:\\Users\\Dawid\\Desktop\\TED_Word_Clouds"
     ]
    },
    {
     "name": "stderr",
     "output_type": "stream",
     "text": [
      "\n",
      "  0%|          | 0.00/199M [00:00<?, ?B/s]\n",
      "  1%|          | 1.00M/199M [00:00<00:36, 5.68MB/s]\n",
      "  1%|          | 2.00M/199M [00:00<00:26, 7.74MB/s]\n",
      "  2%|▏         | 4.00M/199M [00:00<00:21, 9.44MB/s]\n",
      "  3%|▎         | 5.00M/199M [00:00<00:21, 9.63MB/s]\n",
      "  3%|▎         | 6.00M/199M [00:00<00:20, 9.85MB/s]\n",
      "  4%|▎         | 7.00M/199M [00:00<00:20, 9.78MB/s]\n",
      "  4%|▍         | 8.00M/199M [00:00<00:20, 9.74MB/s]\n",
      "  5%|▍         | 9.00M/199M [00:01<00:20, 9.61MB/s]\n",
      "  5%|▌         | 10.0M/199M [00:01<00:21, 9.43MB/s]\n",
      "  6%|▌         | 11.0M/199M [00:01<00:21, 9.31MB/s]\n",
      "  6%|▌         | 12.0M/199M [00:01<00:21, 9.14MB/s]\n",
      "  7%|▋         | 13.0M/199M [00:01<00:21, 8.94MB/s]\n",
      "  7%|▋         | 14.0M/199M [00:01<00:22, 8.59MB/s]\n",
      "  8%|▊         | 15.0M/199M [00:01<00:22, 8.43MB/s]\n",
      "  8%|▊         | 16.0M/199M [00:01<00:23, 8.13MB/s]\n",
      "  9%|▊         | 17.0M/199M [00:02<00:24, 7.92MB/s]\n",
      "  9%|▉         | 18.0M/199M [00:02<00:24, 7.68MB/s]\n",
      " 10%|▉         | 19.0M/199M [00:02<00:25, 7.49MB/s]\n",
      " 10%|█         | 20.0M/199M [00:02<00:25, 7.33MB/s]\n",
      " 11%|█         | 21.0M/199M [00:02<00:26, 7.13MB/s]\n",
      " 11%|█         | 22.0M/199M [00:02<00:26, 6.95MB/s]\n",
      " 12%|█▏        | 23.0M/199M [00:02<00:27, 6.80MB/s]\n"
     ]
    },
    {
     "name": "stdout",
     "output_type": "stream",
     "text": [
      "\n",
      "\n"
     ]
    },
    {
     "name": "stderr",
     "output_type": "stream",
     "text": [
      " 12%|█▏        | 24.0M/199M [00:03<00:27, 6.66MB/s]\n",
      " 13%|█▎        | 25.0M/199M [00:03<00:28, 6.49MB/s]\n",
      " 13%|█▎        | 26.0M/199M [00:03<00:28, 6.33MB/s]\n",
      " 14%|█▎        | 27.0M/199M [00:03<00:29, 6.21MB/s]\n",
      " 14%|█▍        | 28.0M/199M [00:03<00:29, 6.08MB/s]\n",
      " 15%|█▍        | 29.0M/199M [00:04<00:30, 5.92MB/s]\n",
      " 15%|█▌        | 30.0M/199M [00:04<00:30, 5.76MB/s]\n",
      " 16%|█▌        | 31.0M/199M [00:04<00:31, 5.64MB/s]\n",
      " 16%|█▌        | 32.0M/199M [00:04<00:31, 5.49MB/s]\n",
      " 17%|█▋        | 33.0M/199M [00:04<00:32, 5.40MB/s]\n",
      " 17%|█▋        | 34.0M/199M [00:05<00:41, 4.18MB/s]\n",
      " 18%|█▊        | 35.0M/199M [00:05<00:39, 4.35MB/s]\n",
      " 18%|█▊        | 36.0M/199M [00:05<00:38, 4.45MB/s]\n",
      " 19%|█▊        | 37.0M/199M [00:05<00:37, 4.49MB/s]\n",
      " 19%|█▉        | 38.0M/199M [00:06<00:37, 4.49MB/s]\n",
      " 20%|█▉        | 39.0M/199M [00:06<00:37, 4.44MB/s]\n",
      " 20%|██        | 40.0M/199M [00:06<00:37, 4.41MB/s]\n",
      " 21%|██        | 41.0M/199M [00:06<00:37, 4.38MB/s]\n",
      " 21%|██        | 42.0M/199M [00:07<00:37, 4.35MB/s]\n",
      " 22%|██▏       | 43.0M/199M [00:07<00:37, 4.31MB/s]\n",
      " 22%|██▏       | 44.0M/199M [00:07<00:38, 4.25MB/s]\n",
      " 23%|██▎       | 45.0M/199M [00:07<00:38, 4.21MB/s]\n",
      " 23%|██▎       | 46.0M/199M [00:08<00:38, 4.18MB/s]\n",
      " 24%|██▎       | 47.0M/199M [00:08<00:38, 4.17MB/s]\n",
      " 24%|██▍       | 48.0M/199M [00:08<00:38, 4.13MB/s]\n",
      " 25%|██▍       | 49.0M/199M [00:08<00:38, 4.05MB/s]\n",
      " 25%|██▌       | 50.0M/199M [00:09<00:39, 3.97MB/s]\n",
      " 26%|██▌       | 51.0M/199M [00:09<00:40, 3.86MB/s]\n",
      " 26%|██▌       | 52.0M/199M [00:09<00:40, 3.78MB/s]\n",
      " 27%|██▋       | 53.0M/199M [00:09<00:40, 3.77MB/s]\n",
      " 27%|██▋       | 54.0M/199M [00:10<00:37, 4.04MB/s]\n",
      " 28%|██▊       | 55.0M/199M [00:10<00:33, 4.51MB/s]\n",
      " 28%|██▊       | 56.0M/199M [00:10<00:34, 4.32MB/s]\n",
      " 29%|██▊       | 57.0M/199M [00:10<00:29, 5.06MB/s]\n",
      " 29%|██▉       | 58.0M/199M [00:10<00:24, 5.92MB/s]\n",
      " 30%|███       | 60.0M/199M [00:11<00:19, 7.54MB/s]\n",
      " 31%|███       | 62.0M/199M [00:11<00:16, 8.66MB/s]\n",
      " 32%|███▏      | 64.0M/199M [00:11<00:14, 9.47MB/s]\n",
      " 33%|███▎      | 66.0M/199M [00:11<00:13, 9.98MB/s]\n",
      " 34%|███▍      | 68.0M/199M [00:11<00:13, 10.3MB/s]\n",
      " 35%|███▌      | 70.0M/199M [00:12<00:12, 10.6MB/s]\n",
      " 36%|███▌      | 72.0M/199M [00:12<00:12, 10.8MB/s]\n",
      " 37%|███▋      | 74.0M/199M [00:12<00:12, 10.9MB/s]\n",
      " 38%|███▊      | 76.0M/199M [00:12<00:11, 11.0MB/s]\n",
      " 39%|███▉      | 78.0M/199M [00:12<00:11, 11.0MB/s]\n",
      " 40%|████      | 80.0M/199M [00:12<00:11, 11.1MB/s]\n",
      " 41%|████      | 82.0M/199M [00:13<00:11, 11.1MB/s]\n",
      " 42%|████▏     | 84.0M/199M [00:13<00:10, 11.1MB/s]\n",
      " 43%|████▎     | 86.0M/199M [00:13<00:10, 11.1MB/s]\n",
      " 44%|████▍     | 88.0M/199M [00:13<00:10, 11.2MB/s]\n",
      " 45%|████▌     | 90.0M/199M [00:13<00:10, 11.4MB/s]\n",
      " 46%|████▌     | 92.0M/199M [00:14<00:09, 12.3MB/s]\n",
      " 47%|████▋     | 94.0M/199M [00:14<00:08, 13.7MB/s]\n",
      " 48%|████▊     | 96.0M/199M [00:14<00:07, 15.3MB/s]\n",
      " 50%|████▉     | 99.0M/199M [00:14<00:05, 17.9MB/s]\n",
      " 51%|█████     | 102M/199M [00:14<00:04, 20.7MB/s] \n",
      " 53%|█████▎    | 106M/199M [00:14<00:04, 24.2MB/s]\n",
      " 55%|█████▌    | 110M/199M [00:14<00:03, 28.1MB/s]\n",
      " 58%|█████▊    | 115M/199M [00:14<00:02, 32.7MB/s]\n",
      " 60%|██████    | 120M/199M [00:14<00:02, 37.5MB/s]\n",
      " 63%|██████▎   | 126M/199M [00:15<00:01, 43.7MB/s]\n",
      " 67%|██████▋   | 133M/199M [00:15<00:01, 50.5MB/s]\n",
      " 71%|███████   | 141M/199M [00:15<00:01, 58.9MB/s]\n",
      " 75%|███████▍  | 149M/199M [00:15<00:00, 65.0MB/s]\n",
      " 79%|███████▉  | 157M/199M [00:15<00:00, 69.0MB/s]\n",
      " 83%|████████▎ | 165M/199M [00:15<00:00, 72.2MB/s]\n",
      " 87%|████████▋ | 173M/199M [00:15<00:00, 74.0MB/s]\n",
      " 91%|█████████ | 181M/199M [00:15<00:00, 75.8MB/s]\n",
      " 95%|█████████▍| 189M/199M [00:15<00:00, 76.8MB/s]\n",
      " 99%|█████████▉| 197M/199M [00:15<00:00, 77.7MB/s]\n",
      "100%|██████████| 199M/199M [00:16<00:00, 13.0MB/s]\n"
     ]
    }
   ],
   "source": [
    "!kaggle datasets download -d miguelcorraljr/ted-ultimate-dataset "
   ]
  },
  {
   "cell_type": "code",
   "execution_count": 6,
   "metadata": {},
   "outputs": [],
   "source": [
    "import os\n",
    "import glob\n",
    "from zipfile import ZipFile\n",
    "\n",
    "zf = ZipFile('ted-ultimate-dataset.zip')\n",
    "zf.extractall(path='data\\\\')\n",
    "zf.close()\n",
    "os.remove('ted-ultimate-dataset.zip')"
   ]
  },
  {
   "attachments": {},
   "cell_type": "markdown",
   "metadata": {},
   "source": [
    "Removing extra languages"
   ]
  },
  {
   "cell_type": "code",
   "execution_count": 7,
   "metadata": {},
   "outputs": [],
   "source": [
    "for file in [path for path in glob.glob('data\\\\*\\\\*') if 'en' not in path]:\n",
    "    os.remove(file)"
   ]
  },
  {
   "attachments": {},
   "cell_type": "markdown",
   "metadata": {},
   "source": [
    "Read dataset"
   ]
  },
  {
   "cell_type": "code",
   "execution_count": 8,
   "metadata": {},
   "outputs": [],
   "source": [
    "import pandas as pd\n",
    "import numpy as np\n",
    "\n",
    "df = pd.read_csv(glob.glob('data\\\\*\\\\*')[0])"
   ]
  },
  {
   "cell_type": "code",
   "execution_count": 9,
   "metadata": {},
   "outputs": [
    {
     "data": {
      "text/html": [
       "<div>\n",
       "<style scoped>\n",
       "    .dataframe tbody tr th:only-of-type {\n",
       "        vertical-align: middle;\n",
       "    }\n",
       "\n",
       "    .dataframe tbody tr th {\n",
       "        vertical-align: top;\n",
       "    }\n",
       "\n",
       "    .dataframe thead th {\n",
       "        text-align: right;\n",
       "    }\n",
       "</style>\n",
       "<table border=\"1\" class=\"dataframe\">\n",
       "  <thead>\n",
       "    <tr style=\"text-align: right;\">\n",
       "      <th></th>\n",
       "      <th>talk_id</th>\n",
       "      <th>title</th>\n",
       "      <th>speaker_1</th>\n",
       "      <th>all_speakers</th>\n",
       "      <th>occupations</th>\n",
       "      <th>about_speakers</th>\n",
       "      <th>views</th>\n",
       "      <th>recorded_date</th>\n",
       "      <th>published_date</th>\n",
       "      <th>event</th>\n",
       "      <th>native_lang</th>\n",
       "      <th>available_lang</th>\n",
       "      <th>comments</th>\n",
       "      <th>duration</th>\n",
       "      <th>topics</th>\n",
       "      <th>related_talks</th>\n",
       "      <th>url</th>\n",
       "      <th>description</th>\n",
       "      <th>transcript</th>\n",
       "    </tr>\n",
       "  </thead>\n",
       "  <tbody>\n",
       "    <tr>\n",
       "      <th>0</th>\n",
       "      <td>1</td>\n",
       "      <td>Averting the climate crisis</td>\n",
       "      <td>Al Gore</td>\n",
       "      <td>{0: 'Al Gore'}</td>\n",
       "      <td>{0: ['climate advocate']}</td>\n",
       "      <td>{0: 'Nobel Laureate Al Gore focused the world’...</td>\n",
       "      <td>3523392</td>\n",
       "      <td>2006-02-25</td>\n",
       "      <td>2006-06-27</td>\n",
       "      <td>TED2006</td>\n",
       "      <td>en</td>\n",
       "      <td>['ar', 'bg', 'cs', 'de', 'el', 'en', 'es', 'fa...</td>\n",
       "      <td>272.0</td>\n",
       "      <td>977</td>\n",
       "      <td>['alternative energy', 'cars', 'climate change...</td>\n",
       "      <td>{243: 'New thinking on the climate crisis', 54...</td>\n",
       "      <td>https://www.ted.com/talks/al_gore_averting_the...</td>\n",
       "      <td>With the same humor and humanity he exuded in ...</td>\n",
       "      <td>Thank you so much, Chris. And it's truly a gre...</td>\n",
       "    </tr>\n",
       "    <tr>\n",
       "      <th>1</th>\n",
       "      <td>92</td>\n",
       "      <td>The best stats you've ever seen</td>\n",
       "      <td>Hans Rosling</td>\n",
       "      <td>{0: 'Hans Rosling'}</td>\n",
       "      <td>{0: ['global health expert; data visionary']}</td>\n",
       "      <td>{0: 'In Hans Rosling’s hands, data sings. Glob...</td>\n",
       "      <td>14501685</td>\n",
       "      <td>2006-02-22</td>\n",
       "      <td>2006-06-27</td>\n",
       "      <td>TED2006</td>\n",
       "      <td>en</td>\n",
       "      <td>['ar', 'az', 'bg', 'bn', 'bs', 'cs', 'da', 'de...</td>\n",
       "      <td>628.0</td>\n",
       "      <td>1190</td>\n",
       "      <td>['Africa', 'Asia', 'Google', 'demo', 'economic...</td>\n",
       "      <td>{2056: \"Own your body's data\", 2296: 'A visual...</td>\n",
       "      <td>https://www.ted.com/talks/hans_rosling_the_bes...</td>\n",
       "      <td>You've never seen data presented like this. Wi...</td>\n",
       "      <td>About 10 years ago, I took on the task to teac...</td>\n",
       "    </tr>\n",
       "    <tr>\n",
       "      <th>2</th>\n",
       "      <td>7</td>\n",
       "      <td>Simplicity sells</td>\n",
       "      <td>David Pogue</td>\n",
       "      <td>{0: 'David Pogue'}</td>\n",
       "      <td>{0: ['technology columnist']}</td>\n",
       "      <td>{0: 'David Pogue is the personal technology co...</td>\n",
       "      <td>1920832</td>\n",
       "      <td>2006-02-24</td>\n",
       "      <td>2006-06-27</td>\n",
       "      <td>TED2006</td>\n",
       "      <td>en</td>\n",
       "      <td>['ar', 'bg', 'de', 'el', 'en', 'es', 'fa', 'fr...</td>\n",
       "      <td>124.0</td>\n",
       "      <td>1286</td>\n",
       "      <td>['computers', 'entertainment', 'interface desi...</td>\n",
       "      <td>{1725: '10 top time-saving tech tips', 2274: '...</td>\n",
       "      <td>https://www.ted.com/talks/david_pogue_simplici...</td>\n",
       "      <td>New York Times columnist David Pogue takes aim...</td>\n",
       "      <td>(Music: \"The Sound of Silence,\" Simon &amp; Garfun...</td>\n",
       "    </tr>\n",
       "    <tr>\n",
       "      <th>3</th>\n",
       "      <td>53</td>\n",
       "      <td>Greening the ghetto</td>\n",
       "      <td>Majora Carter</td>\n",
       "      <td>{0: 'Majora Carter'}</td>\n",
       "      <td>{0: ['activist for environmental justice']}</td>\n",
       "      <td>{0: 'Majora Carter redefined the field of envi...</td>\n",
       "      <td>2664069</td>\n",
       "      <td>2006-02-26</td>\n",
       "      <td>2006-06-27</td>\n",
       "      <td>TED2006</td>\n",
       "      <td>en</td>\n",
       "      <td>['ar', 'bg', 'bn', 'ca', 'cs', 'de', 'en', 'es...</td>\n",
       "      <td>219.0</td>\n",
       "      <td>1116</td>\n",
       "      <td>['MacArthur grant', 'activism', 'business', 'c...</td>\n",
       "      <td>{1041: '3 stories of local eco-entrepreneurshi...</td>\n",
       "      <td>https://www.ted.com/talks/majora_carter_greeni...</td>\n",
       "      <td>In an emotionally charged talk, MacArthur-winn...</td>\n",
       "      <td>If you're here today — and I'm very happy that...</td>\n",
       "    </tr>\n",
       "    <tr>\n",
       "      <th>4</th>\n",
       "      <td>66</td>\n",
       "      <td>Do schools kill creativity?</td>\n",
       "      <td>Sir Ken Robinson</td>\n",
       "      <td>{0: 'Sir Ken Robinson'}</td>\n",
       "      <td>{0: ['author', 'educator']}</td>\n",
       "      <td>{0: \"Creativity expert Sir Ken Robinson challe...</td>\n",
       "      <td>65051954</td>\n",
       "      <td>2006-02-25</td>\n",
       "      <td>2006-06-27</td>\n",
       "      <td>TED2006</td>\n",
       "      <td>en</td>\n",
       "      <td>['af', 'ar', 'az', 'be', 'bg', 'bn', 'ca', 'cs...</td>\n",
       "      <td>4931.0</td>\n",
       "      <td>1164</td>\n",
       "      <td>['children', 'creativity', 'culture', 'dance',...</td>\n",
       "      <td>{865: 'Bring on the learning revolution!', 173...</td>\n",
       "      <td>https://www.ted.com/talks/sir_ken_robinson_do_...</td>\n",
       "      <td>Sir Ken Robinson makes an entertaining and pro...</td>\n",
       "      <td>Good morning. How are you? (Audience) Good. It...</td>\n",
       "    </tr>\n",
       "  </tbody>\n",
       "</table>\n",
       "</div>"
      ],
      "text/plain": [
       "   talk_id                            title         speaker_1  \\\n",
       "0        1      Averting the climate crisis           Al Gore   \n",
       "1       92  The best stats you've ever seen      Hans Rosling   \n",
       "2        7                 Simplicity sells       David Pogue   \n",
       "3       53              Greening the ghetto     Majora Carter   \n",
       "4       66      Do schools kill creativity?  Sir Ken Robinson   \n",
       "\n",
       "              all_speakers                                    occupations  \\\n",
       "0           {0: 'Al Gore'}                      {0: ['climate advocate']}   \n",
       "1      {0: 'Hans Rosling'}  {0: ['global health expert; data visionary']}   \n",
       "2       {0: 'David Pogue'}                  {0: ['technology columnist']}   \n",
       "3     {0: 'Majora Carter'}    {0: ['activist for environmental justice']}   \n",
       "4  {0: 'Sir Ken Robinson'}                    {0: ['author', 'educator']}   \n",
       "\n",
       "                                      about_speakers     views recorded_date  \\\n",
       "0  {0: 'Nobel Laureate Al Gore focused the world’...   3523392    2006-02-25   \n",
       "1  {0: 'In Hans Rosling’s hands, data sings. Glob...  14501685    2006-02-22   \n",
       "2  {0: 'David Pogue is the personal technology co...   1920832    2006-02-24   \n",
       "3  {0: 'Majora Carter redefined the field of envi...   2664069    2006-02-26   \n",
       "4  {0: \"Creativity expert Sir Ken Robinson challe...  65051954    2006-02-25   \n",
       "\n",
       "  published_date    event native_lang  \\\n",
       "0     2006-06-27  TED2006          en   \n",
       "1     2006-06-27  TED2006          en   \n",
       "2     2006-06-27  TED2006          en   \n",
       "3     2006-06-27  TED2006          en   \n",
       "4     2006-06-27  TED2006          en   \n",
       "\n",
       "                                      available_lang  comments  duration  \\\n",
       "0  ['ar', 'bg', 'cs', 'de', 'el', 'en', 'es', 'fa...     272.0       977   \n",
       "1  ['ar', 'az', 'bg', 'bn', 'bs', 'cs', 'da', 'de...     628.0      1190   \n",
       "2  ['ar', 'bg', 'de', 'el', 'en', 'es', 'fa', 'fr...     124.0      1286   \n",
       "3  ['ar', 'bg', 'bn', 'ca', 'cs', 'de', 'en', 'es...     219.0      1116   \n",
       "4  ['af', 'ar', 'az', 'be', 'bg', 'bn', 'ca', 'cs...    4931.0      1164   \n",
       "\n",
       "                                              topics  \\\n",
       "0  ['alternative energy', 'cars', 'climate change...   \n",
       "1  ['Africa', 'Asia', 'Google', 'demo', 'economic...   \n",
       "2  ['computers', 'entertainment', 'interface desi...   \n",
       "3  ['MacArthur grant', 'activism', 'business', 'c...   \n",
       "4  ['children', 'creativity', 'culture', 'dance',...   \n",
       "\n",
       "                                       related_talks  \\\n",
       "0  {243: 'New thinking on the climate crisis', 54...   \n",
       "1  {2056: \"Own your body's data\", 2296: 'A visual...   \n",
       "2  {1725: '10 top time-saving tech tips', 2274: '...   \n",
       "3  {1041: '3 stories of local eco-entrepreneurshi...   \n",
       "4  {865: 'Bring on the learning revolution!', 173...   \n",
       "\n",
       "                                                 url  \\\n",
       "0  https://www.ted.com/talks/al_gore_averting_the...   \n",
       "1  https://www.ted.com/talks/hans_rosling_the_bes...   \n",
       "2  https://www.ted.com/talks/david_pogue_simplici...   \n",
       "3  https://www.ted.com/talks/majora_carter_greeni...   \n",
       "4  https://www.ted.com/talks/sir_ken_robinson_do_...   \n",
       "\n",
       "                                         description  \\\n",
       "0  With the same humor and humanity he exuded in ...   \n",
       "1  You've never seen data presented like this. Wi...   \n",
       "2  New York Times columnist David Pogue takes aim...   \n",
       "3  In an emotionally charged talk, MacArthur-winn...   \n",
       "4  Sir Ken Robinson makes an entertaining and pro...   \n",
       "\n",
       "                                          transcript  \n",
       "0  Thank you so much, Chris. And it's truly a gre...  \n",
       "1  About 10 years ago, I took on the task to teac...  \n",
       "2  (Music: \"The Sound of Silence,\" Simon & Garfun...  \n",
       "3  If you're here today — and I'm very happy that...  \n",
       "4  Good morning. How are you? (Audience) Good. It...  "
      ]
     },
     "execution_count": 9,
     "metadata": {},
     "output_type": "execute_result"
    }
   ],
   "source": [
    "df.head()"
   ]
  },
  {
   "attachments": {},
   "cell_type": "markdown",
   "metadata": {},
   "source": [
    "Leave only these columns that will be needed"
   ]
  },
  {
   "cell_type": "code",
   "execution_count": 10,
   "metadata": {},
   "outputs": [
    {
     "data": {
      "text/html": [
       "<div>\n",
       "<style scoped>\n",
       "    .dataframe tbody tr th:only-of-type {\n",
       "        vertical-align: middle;\n",
       "    }\n",
       "\n",
       "    .dataframe tbody tr th {\n",
       "        vertical-align: top;\n",
       "    }\n",
       "\n",
       "    .dataframe thead th {\n",
       "        text-align: right;\n",
       "    }\n",
       "</style>\n",
       "<table border=\"1\" class=\"dataframe\">\n",
       "  <thead>\n",
       "    <tr style=\"text-align: right;\">\n",
       "      <th></th>\n",
       "      <th>talk_id</th>\n",
       "      <th>topics</th>\n",
       "      <th>description</th>\n",
       "      <th>transcript</th>\n",
       "    </tr>\n",
       "  </thead>\n",
       "  <tbody>\n",
       "    <tr>\n",
       "      <th>0</th>\n",
       "      <td>1</td>\n",
       "      <td>['alternative energy', 'cars', 'climate change...</td>\n",
       "      <td>With the same humor and humanity he exuded in ...</td>\n",
       "      <td>Thank you so much, Chris. And it's truly a gre...</td>\n",
       "    </tr>\n",
       "    <tr>\n",
       "      <th>1</th>\n",
       "      <td>92</td>\n",
       "      <td>['Africa', 'Asia', 'Google', 'demo', 'economic...</td>\n",
       "      <td>You've never seen data presented like this. Wi...</td>\n",
       "      <td>About 10 years ago, I took on the task to teac...</td>\n",
       "    </tr>\n",
       "    <tr>\n",
       "      <th>2</th>\n",
       "      <td>7</td>\n",
       "      <td>['computers', 'entertainment', 'interface desi...</td>\n",
       "      <td>New York Times columnist David Pogue takes aim...</td>\n",
       "      <td>(Music: \"The Sound of Silence,\" Simon &amp; Garfun...</td>\n",
       "    </tr>\n",
       "    <tr>\n",
       "      <th>3</th>\n",
       "      <td>53</td>\n",
       "      <td>['MacArthur grant', 'activism', 'business', 'c...</td>\n",
       "      <td>In an emotionally charged talk, MacArthur-winn...</td>\n",
       "      <td>If you're here today — and I'm very happy that...</td>\n",
       "    </tr>\n",
       "    <tr>\n",
       "      <th>4</th>\n",
       "      <td>66</td>\n",
       "      <td>['children', 'creativity', 'culture', 'dance',...</td>\n",
       "      <td>Sir Ken Robinson makes an entertaining and pro...</td>\n",
       "      <td>Good morning. How are you? (Audience) Good. It...</td>\n",
       "    </tr>\n",
       "  </tbody>\n",
       "</table>\n",
       "</div>"
      ],
      "text/plain": [
       "   talk_id                                             topics  \\\n",
       "0        1  ['alternative energy', 'cars', 'climate change...   \n",
       "1       92  ['Africa', 'Asia', 'Google', 'demo', 'economic...   \n",
       "2        7  ['computers', 'entertainment', 'interface desi...   \n",
       "3       53  ['MacArthur grant', 'activism', 'business', 'c...   \n",
       "4       66  ['children', 'creativity', 'culture', 'dance',...   \n",
       "\n",
       "                                         description  \\\n",
       "0  With the same humor and humanity he exuded in ...   \n",
       "1  You've never seen data presented like this. Wi...   \n",
       "2  New York Times columnist David Pogue takes aim...   \n",
       "3  In an emotionally charged talk, MacArthur-winn...   \n",
       "4  Sir Ken Robinson makes an entertaining and pro...   \n",
       "\n",
       "                                          transcript  \n",
       "0  Thank you so much, Chris. And it's truly a gre...  \n",
       "1  About 10 years ago, I took on the task to teac...  \n",
       "2  (Music: \"The Sound of Silence,\" Simon & Garfun...  \n",
       "3  If you're here today — and I'm very happy that...  \n",
       "4  Good morning. How are you? (Audience) Good. It...  "
      ]
     },
     "execution_count": 10,
     "metadata": {},
     "output_type": "execute_result"
    }
   ],
   "source": [
    "df = df.loc[:, ['talk_id', 'topics', 'description', 'transcript']]\n",
    "df.head()"
   ]
  },
  {
   "cell_type": "code",
   "execution_count": 11,
   "metadata": {},
   "outputs": [
    {
     "data": {
      "text/plain": [
       "(4005, 4)"
      ]
     },
     "execution_count": 11,
     "metadata": {},
     "output_type": "execute_result"
    }
   ],
   "source": [
    "df.shape"
   ]
  },
  {
   "attachments": {},
   "cell_type": "markdown",
   "metadata": {},
   "source": [
    "There are 4005 TED talk transcripts in dataset"
   ]
  },
  {
   "cell_type": "code",
   "execution_count": 12,
   "metadata": {},
   "outputs": [],
   "source": [
    "topics = set()\n",
    "for topic_list in df['topics'].apply(eval):\n",
    "    for topic in topic_list:\n",
    "        topics.add(topic)"
   ]
  },
  {
   "cell_type": "code",
   "execution_count": 13,
   "metadata": {},
   "outputs": [
    {
     "data": {
      "text/html": [
       "<div>\n",
       "<style scoped>\n",
       "    .dataframe tbody tr th:only-of-type {\n",
       "        vertical-align: middle;\n",
       "    }\n",
       "\n",
       "    .dataframe tbody tr th {\n",
       "        vertical-align: top;\n",
       "    }\n",
       "\n",
       "    .dataframe thead th {\n",
       "        text-align: right;\n",
       "    }\n",
       "</style>\n",
       "<table border=\"1\" class=\"dataframe\">\n",
       "  <thead>\n",
       "    <tr style=\"text-align: right;\">\n",
       "      <th></th>\n",
       "      <th>topic</th>\n",
       "    </tr>\n",
       "  </thead>\n",
       "  <tbody>\n",
       "    <tr>\n",
       "      <th>0</th>\n",
       "      <td>family</td>\n",
       "    </tr>\n",
       "    <tr>\n",
       "      <th>1</th>\n",
       "      <td>illusion</td>\n",
       "    </tr>\n",
       "    <tr>\n",
       "      <th>2</th>\n",
       "      <td>creativity</td>\n",
       "    </tr>\n",
       "    <tr>\n",
       "      <th>3</th>\n",
       "      <td>refugees</td>\n",
       "    </tr>\n",
       "    <tr>\n",
       "      <th>4</th>\n",
       "      <td>teaching</td>\n",
       "    </tr>\n",
       "    <tr>\n",
       "      <th>...</th>\n",
       "      <td>...</td>\n",
       "    </tr>\n",
       "    <tr>\n",
       "      <th>452</th>\n",
       "      <td>Google</td>\n",
       "    </tr>\n",
       "    <tr>\n",
       "      <th>453</th>\n",
       "      <td>brain</td>\n",
       "    </tr>\n",
       "    <tr>\n",
       "      <th>454</th>\n",
       "      <td>monkeys</td>\n",
       "    </tr>\n",
       "    <tr>\n",
       "      <th>455</th>\n",
       "      <td>agriculture</td>\n",
       "    </tr>\n",
       "    <tr>\n",
       "      <th>456</th>\n",
       "      <td>Moon</td>\n",
       "    </tr>\n",
       "  </tbody>\n",
       "</table>\n",
       "<p>457 rows × 1 columns</p>\n",
       "</div>"
      ],
      "text/plain": [
       "           topic\n",
       "0         family\n",
       "1       illusion\n",
       "2     creativity\n",
       "3       refugees\n",
       "4       teaching\n",
       "..           ...\n",
       "452       Google\n",
       "453        brain\n",
       "454      monkeys\n",
       "455  agriculture\n",
       "456         Moon\n",
       "\n",
       "[457 rows x 1 columns]"
      ]
     },
     "execution_count": 13,
     "metadata": {},
     "output_type": "execute_result"
    }
   ],
   "source": [
    "topics_df = pd.DataFrame(topics, columns = ['topic'])\n",
    "topics_df"
   ]
  },
  {
   "attachments": {},
   "cell_type": "markdown",
   "metadata": {},
   "source": [
    "There are 457 unique topics of TED talks"
   ]
  },
  {
   "attachments": {},
   "cell_type": "markdown",
   "metadata": {},
   "source": [
    "Group dataset by each topic"
   ]
  },
  {
   "cell_type": "code",
   "execution_count": 14,
   "metadata": {},
   "outputs": [],
   "source": [
    "topics_df['talk_ids'] = np.empty((len(topics_df), 0)).tolist()"
   ]
  },
  {
   "cell_type": "code",
   "execution_count": 15,
   "metadata": {},
   "outputs": [],
   "source": [
    "for _, row in topics_df.iterrows():\n",
    "    topic = row['topic']\n",
    "    talk_ids = []\n",
    "    for id, talk_topics in df[['talk_id', 'topics']].values:\n",
    "        talk_topics = eval(talk_topics)\n",
    "        if topic in talk_topics:\n",
    "            talk_ids.append(id)\n",
    "    row['talk_ids'] += talk_ids"
   ]
  },
  {
   "cell_type": "code",
   "execution_count": 16,
   "metadata": {},
   "outputs": [
    {
     "data": {
      "text/html": [
       "<div>\n",
       "<style scoped>\n",
       "    .dataframe tbody tr th:only-of-type {\n",
       "        vertical-align: middle;\n",
       "    }\n",
       "\n",
       "    .dataframe tbody tr th {\n",
       "        vertical-align: top;\n",
       "    }\n",
       "\n",
       "    .dataframe thead th {\n",
       "        text-align: right;\n",
       "    }\n",
       "</style>\n",
       "<table border=\"1\" class=\"dataframe\">\n",
       "  <thead>\n",
       "    <tr style=\"text-align: right;\">\n",
       "      <th></th>\n",
       "      <th>topic</th>\n",
       "      <th>talk_ids</th>\n",
       "    </tr>\n",
       "  </thead>\n",
       "  <tbody>\n",
       "    <tr>\n",
       "      <th>0</th>\n",
       "      <td>family</td>\n",
       "      <td>[297, 1368, 1369, 1498, 1601, 1675, 1694, 1756...</td>\n",
       "    </tr>\n",
       "    <tr>\n",
       "      <th>1</th>\n",
       "      <td>illusion</td>\n",
       "      <td>[22, 78, 32, 102, 184, 310, 327, 333, 364, 375...</td>\n",
       "    </tr>\n",
       "    <tr>\n",
       "      <th>2</th>\n",
       "      <td>creativity</td>\n",
       "      <td>[66, 46, 27, 32, 103, 122, 162, 187, 13, 219, ...</td>\n",
       "    </tr>\n",
       "    <tr>\n",
       "      <th>3</th>\n",
       "      <td>refugees</td>\n",
       "      <td>[2110, 2449, 2541, 2543, 2569, 2683, 2687, 272...</td>\n",
       "    </tr>\n",
       "    <tr>\n",
       "      <th>4</th>\n",
       "      <td>teaching</td>\n",
       "      <td>[66, 233, 175, 809, 855, 887, 1090, 1592, 1649...</td>\n",
       "    </tr>\n",
       "    <tr>\n",
       "      <th>...</th>\n",
       "      <td>...</td>\n",
       "      <td>...</td>\n",
       "    </tr>\n",
       "    <tr>\n",
       "      <th>452</th>\n",
       "      <td>Google</td>\n",
       "      <td>[92, 118, 140, 247, 248, 1227, 1993, 2259, 236...</td>\n",
       "    </tr>\n",
       "    <tr>\n",
       "      <th>453</th>\n",
       "      <td>brain</td>\n",
       "      <td>[94, 97, 78, 102, 125, 184, 189, 191, 200, 229...</td>\n",
       "    </tr>\n",
       "    <tr>\n",
       "      <th>454</th>\n",
       "      <td>monkeys</td>\n",
       "      <td>[927, 1417, 1472, 1671, 1701, 2373, 2793, 24468]</td>\n",
       "    </tr>\n",
       "    <tr>\n",
       "      <th>455</th>\n",
       "      <td>agriculture</td>\n",
       "      <td>[537, 622, 790, 945, 994, 1016, 1018, 1304, 13...</td>\n",
       "    </tr>\n",
       "    <tr>\n",
       "      <th>456</th>\n",
       "      <td>Moon</td>\n",
       "      <td>[141, 1488, 2849, 36416, 37861, 23968, 40769, ...</td>\n",
       "    </tr>\n",
       "  </tbody>\n",
       "</table>\n",
       "<p>457 rows × 2 columns</p>\n",
       "</div>"
      ],
      "text/plain": [
       "           topic                                           talk_ids\n",
       "0         family  [297, 1368, 1369, 1498, 1601, 1675, 1694, 1756...\n",
       "1       illusion  [22, 78, 32, 102, 184, 310, 327, 333, 364, 375...\n",
       "2     creativity  [66, 46, 27, 32, 103, 122, 162, 187, 13, 219, ...\n",
       "3       refugees  [2110, 2449, 2541, 2543, 2569, 2683, 2687, 272...\n",
       "4       teaching  [66, 233, 175, 809, 855, 887, 1090, 1592, 1649...\n",
       "..           ...                                                ...\n",
       "452       Google  [92, 118, 140, 247, 248, 1227, 1993, 2259, 236...\n",
       "453        brain  [94, 97, 78, 102, 125, 184, 189, 191, 200, 229...\n",
       "454      monkeys   [927, 1417, 1472, 1671, 1701, 2373, 2793, 24468]\n",
       "455  agriculture  [537, 622, 790, 945, 994, 1016, 1018, 1304, 13...\n",
       "456         Moon  [141, 1488, 2849, 36416, 37861, 23968, 40769, ...\n",
       "\n",
       "[457 rows x 2 columns]"
      ]
     },
     "execution_count": 16,
     "metadata": {},
     "output_type": "execute_result"
    }
   ],
   "source": [
    "topics_df"
   ]
  },
  {
   "attachments": {},
   "cell_type": "markdown",
   "metadata": {},
   "source": [
    "Create corpuses of text by combining transcripts of given topic"
   ]
  },
  {
   "cell_type": "code",
   "execution_count": 17,
   "metadata": {},
   "outputs": [],
   "source": [
    "topics_df.insert(1, 'corpus', '')"
   ]
  },
  {
   "cell_type": "code",
   "execution_count": 90,
   "metadata": {},
   "outputs": [],
   "source": [
    "for _, row in topics_df.iterrows():\n",
    "    row['corpus'] = ' '.join(df[df['talk_id'].isin(row['talk_ids'])]['transcript'].tolist())"
   ]
  },
  {
   "cell_type": "code",
   "execution_count": 62,
   "metadata": {},
   "outputs": [
    {
     "data": {
      "text/html": [
       "<div>\n",
       "<style scoped>\n",
       "    .dataframe tbody tr th:only-of-type {\n",
       "        vertical-align: middle;\n",
       "    }\n",
       "\n",
       "    .dataframe tbody tr th {\n",
       "        vertical-align: top;\n",
       "    }\n",
       "\n",
       "    .dataframe thead th {\n",
       "        text-align: right;\n",
       "    }\n",
       "</style>\n",
       "<table border=\"1\" class=\"dataframe\">\n",
       "  <thead>\n",
       "    <tr style=\"text-align: right;\">\n",
       "      <th></th>\n",
       "      <th>topic</th>\n",
       "      <th>corpus</th>\n",
       "      <th>talk_ids</th>\n",
       "    </tr>\n",
       "  </thead>\n",
       "  <tbody>\n",
       "    <tr>\n",
       "      <th>0</th>\n",
       "      <td>family</td>\n",
       "      <td>Some of you have heard the story before, but, ...</td>\n",
       "      <td>[297, 1368, 1369, 1498, 1601, 1675, 1694, 1756...</td>\n",
       "    </tr>\n",
       "    <tr>\n",
       "      <th>1</th>\n",
       "      <td>illusion</td>\n",
       "      <td>I'm Michael Shermer, director of the Skeptics ...</td>\n",
       "      <td>[22, 78, 32, 102, 184, 310, 327, 333, 364, 375...</td>\n",
       "    </tr>\n",
       "    <tr>\n",
       "      <th>2</th>\n",
       "      <td>creativity</td>\n",
       "      <td>Good morning. How are you? (Audience) Good. It...</td>\n",
       "      <td>[66, 46, 27, 32, 103, 122, 162, 187, 13, 219, ...</td>\n",
       "    </tr>\n",
       "    <tr>\n",
       "      <th>3</th>\n",
       "      <td>refugees</td>\n",
       "      <td>So I started working with refugees because I w...</td>\n",
       "      <td>[2110, 2449, 2541, 2543, 2569, 2683, 2687, 272...</td>\n",
       "    </tr>\n",
       "    <tr>\n",
       "      <th>4</th>\n",
       "      <td>teaching</td>\n",
       "      <td>Good morning. How are you? (Audience) Good. It...</td>\n",
       "      <td>[66, 233, 175, 809, 855, 887, 1090, 1592, 1649...</td>\n",
       "    </tr>\n",
       "    <tr>\n",
       "      <th>...</th>\n",
       "      <td>...</td>\n",
       "      <td>...</td>\n",
       "      <td>...</td>\n",
       "    </tr>\n",
       "    <tr>\n",
       "      <th>452</th>\n",
       "      <td>Google</td>\n",
       "      <td>About 10 years ago, I took on the task to teac...</td>\n",
       "      <td>[92, 118, 140, 247, 248, 1227, 1993, 2259, 236...</td>\n",
       "    </tr>\n",
       "    <tr>\n",
       "      <th>453</th>\n",
       "      <td>brain</td>\n",
       "      <td>It's wonderful to be back. I love this wonderf...</td>\n",
       "      <td>[94, 97, 78, 102, 125, 184, 189, 191, 200, 229...</td>\n",
       "    </tr>\n",
       "    <tr>\n",
       "      <th>454</th>\n",
       "      <td>monkeys</td>\n",
       "      <td>I want to start my talk today with two observa...</td>\n",
       "      <td>[927, 1417, 1472, 1671, 1701, 2373, 2793, 24468]</td>\n",
       "    </tr>\n",
       "    <tr>\n",
       "      <th>455</th>\n",
       "      <td>agriculture</td>\n",
       "      <td>I'm not at all a cook. So don't fear, this is ...</td>\n",
       "      <td>[537, 622, 790, 945, 994, 1016, 1018, 1304, 13...</td>\n",
       "    </tr>\n",
       "    <tr>\n",
       "      <th>456</th>\n",
       "      <td>Moon</td>\n",
       "      <td>First place I'd like to take you is what many ...</td>\n",
       "      <td>[141, 1488, 2849, 36416, 37861, 23968, 40769, ...</td>\n",
       "    </tr>\n",
       "  </tbody>\n",
       "</table>\n",
       "<p>457 rows × 3 columns</p>\n",
       "</div>"
      ],
      "text/plain": [
       "           topic                                             corpus  \\\n",
       "0         family  Some of you have heard the story before, but, ...   \n",
       "1       illusion  I'm Michael Shermer, director of the Skeptics ...   \n",
       "2     creativity  Good morning. How are you? (Audience) Good. It...   \n",
       "3       refugees  So I started working with refugees because I w...   \n",
       "4       teaching  Good morning. How are you? (Audience) Good. It...   \n",
       "..           ...                                                ...   \n",
       "452       Google  About 10 years ago, I took on the task to teac...   \n",
       "453        brain  It's wonderful to be back. I love this wonderf...   \n",
       "454      monkeys  I want to start my talk today with two observa...   \n",
       "455  agriculture  I'm not at all a cook. So don't fear, this is ...   \n",
       "456         Moon  First place I'd like to take you is what many ...   \n",
       "\n",
       "                                              talk_ids  \n",
       "0    [297, 1368, 1369, 1498, 1601, 1675, 1694, 1756...  \n",
       "1    [22, 78, 32, 102, 184, 310, 327, 333, 364, 375...  \n",
       "2    [66, 46, 27, 32, 103, 122, 162, 187, 13, 219, ...  \n",
       "3    [2110, 2449, 2541, 2543, 2569, 2683, 2687, 272...  \n",
       "4    [66, 233, 175, 809, 855, 887, 1090, 1592, 1649...  \n",
       "..                                                 ...  \n",
       "452  [92, 118, 140, 247, 248, 1227, 1993, 2259, 236...  \n",
       "453  [94, 97, 78, 102, 125, 184, 189, 191, 200, 229...  \n",
       "454   [927, 1417, 1472, 1671, 1701, 2373, 2793, 24468]  \n",
       "455  [537, 622, 790, 945, 994, 1016, 1018, 1304, 13...  \n",
       "456  [141, 1488, 2849, 36416, 37861, 23968, 40769, ...  \n",
       "\n",
       "[457 rows x 3 columns]"
      ]
     },
     "execution_count": 62,
     "metadata": {},
     "output_type": "execute_result"
    }
   ],
   "source": [
    "topics_df"
   ]
  },
  {
   "attachments": {},
   "cell_type": "markdown",
   "metadata": {},
   "source": [
    "Now dataset has 457 rows of different topics presented in TED talks, each with IDs of talks that had these topics assigned and corpus of text containing combined transcripts of these talks."
   ]
  },
  {
   "attachments": {},
   "cell_type": "markdown",
   "metadata": {},
   "source": [
    "Cleaning text"
   ]
  },
  {
   "cell_type": "code",
   "execution_count": 63,
   "metadata": {},
   "outputs": [],
   "source": [
    "import re\n",
    "import string"
   ]
  },
  {
   "cell_type": "code",
   "execution_count": 91,
   "metadata": {},
   "outputs": [],
   "source": [
    "def clean_text(text):\n",
    "    text = re.sub('[\\[\\(\\{][^\"]*[\\}\\)\\]]', '', text) # text in brakects\n",
    "    text = re.sub('[%s]' % re.escape(string.punctuation), '', text) # punctation\n",
    "    text = re.sub('\\w*\\d\\w*', '', text) # words with numbers\n",
    "    text = re.sub('[\\“\\–\\-]', '', text) # double-quotes, dashes\n",
    "    return text"
   ]
  },
  {
   "cell_type": "code",
   "execution_count": 92,
   "metadata": {},
   "outputs": [],
   "source": [
    "topics_df['corpus'] = topics_df['corpus'].apply(lambda text: clean_text(text))"
   ]
  },
  {
   "cell_type": "code",
   "execution_count": 93,
   "metadata": {},
   "outputs": [
    {
     "data": {
      "text/html": [
       "<div>\n",
       "<style scoped>\n",
       "    .dataframe tbody tr th:only-of-type {\n",
       "        vertical-align: middle;\n",
       "    }\n",
       "\n",
       "    .dataframe tbody tr th {\n",
       "        vertical-align: top;\n",
       "    }\n",
       "\n",
       "    .dataframe thead th {\n",
       "        text-align: right;\n",
       "    }\n",
       "</style>\n",
       "<table border=\"1\" class=\"dataframe\">\n",
       "  <thead>\n",
       "    <tr style=\"text-align: right;\">\n",
       "      <th></th>\n",
       "      <th>topic</th>\n",
       "      <th>corpus</th>\n",
       "      <th>talk_ids</th>\n",
       "    </tr>\n",
       "  </thead>\n",
       "  <tbody>\n",
       "    <tr>\n",
       "      <th>0</th>\n",
       "      <td>family</td>\n",
       "      <td>Some of you have heard the story before but in...</td>\n",
       "      <td>[297, 1368, 1369, 1498, 1601, 1675, 1694, 1756...</td>\n",
       "    </tr>\n",
       "    <tr>\n",
       "      <th>1</th>\n",
       "      <td>illusion</td>\n",
       "      <td>Im Michael Shermer director of the Skeptics So...</td>\n",
       "      <td>[22, 78, 32, 102, 184, 310, 327, 333, 364, 375...</td>\n",
       "    </tr>\n",
       "    <tr>\n",
       "      <th>2</th>\n",
       "      <td>creativity</td>\n",
       "      <td>Good morning How are you  And youre never aske...</td>\n",
       "      <td>[66, 46, 27, 32, 103, 122, 162, 187, 13, 219, ...</td>\n",
       "    </tr>\n",
       "    <tr>\n",
       "      <th>3</th>\n",
       "      <td>refugees</td>\n",
       "      <td>So I started working with refugees because I w...</td>\n",
       "      <td>[2110, 2449, 2541, 2543, 2569, 2683, 2687, 272...</td>\n",
       "    </tr>\n",
       "    <tr>\n",
       "      <th>4</th>\n",
       "      <td>teaching</td>\n",
       "      <td>Good morning How are you  And youre never aske...</td>\n",
       "      <td>[66, 233, 175, 809, 855, 887, 1090, 1592, 1649...</td>\n",
       "    </tr>\n",
       "    <tr>\n",
       "      <th>...</th>\n",
       "      <td>...</td>\n",
       "      <td>...</td>\n",
       "      <td>...</td>\n",
       "    </tr>\n",
       "    <tr>\n",
       "      <th>452</th>\n",
       "      <td>Google</td>\n",
       "      <td>About  years ago I took on the task to teach g...</td>\n",
       "      <td>[92, 118, 140, 247, 248, 1227, 1993, 2259, 236...</td>\n",
       "    </tr>\n",
       "    <tr>\n",
       "      <th>453</th>\n",
       "      <td>brain</td>\n",
       "      <td>Its wonderful to be back I love this wonderful...</td>\n",
       "      <td>[94, 97, 78, 102, 125, 184, 189, 191, 200, 229...</td>\n",
       "    </tr>\n",
       "    <tr>\n",
       "      <th>454</th>\n",
       "      <td>monkeys</td>\n",
       "      <td>I want to start my talk today with two observa...</td>\n",
       "      <td>[927, 1417, 1472, 1671, 1701, 2373, 2793, 24468]</td>\n",
       "    </tr>\n",
       "    <tr>\n",
       "      <th>455</th>\n",
       "      <td>agriculture</td>\n",
       "      <td>Im not at all a cook So dont fear this is not ...</td>\n",
       "      <td>[537, 622, 790, 945, 994, 1016, 1018, 1304, 13...</td>\n",
       "    </tr>\n",
       "    <tr>\n",
       "      <th>456</th>\n",
       "      <td>Moon</td>\n",
       "      <td>First place Id like to take you is what many b...</td>\n",
       "      <td>[141, 1488, 2849, 36416, 37861, 23968, 40769, ...</td>\n",
       "    </tr>\n",
       "  </tbody>\n",
       "</table>\n",
       "<p>457 rows × 3 columns</p>\n",
       "</div>"
      ],
      "text/plain": [
       "           topic                                             corpus  \\\n",
       "0         family  Some of you have heard the story before but in...   \n",
       "1       illusion  Im Michael Shermer director of the Skeptics So...   \n",
       "2     creativity  Good morning How are you  And youre never aske...   \n",
       "3       refugees  So I started working with refugees because I w...   \n",
       "4       teaching  Good morning How are you  And youre never aske...   \n",
       "..           ...                                                ...   \n",
       "452       Google  About  years ago I took on the task to teach g...   \n",
       "453        brain  Its wonderful to be back I love this wonderful...   \n",
       "454      monkeys  I want to start my talk today with two observa...   \n",
       "455  agriculture  Im not at all a cook So dont fear this is not ...   \n",
       "456         Moon  First place Id like to take you is what many b...   \n",
       "\n",
       "                                              talk_ids  \n",
       "0    [297, 1368, 1369, 1498, 1601, 1675, 1694, 1756...  \n",
       "1    [22, 78, 32, 102, 184, 310, 327, 333, 364, 375...  \n",
       "2    [66, 46, 27, 32, 103, 122, 162, 187, 13, 219, ...  \n",
       "3    [2110, 2449, 2541, 2543, 2569, 2683, 2687, 272...  \n",
       "4    [66, 233, 175, 809, 855, 887, 1090, 1592, 1649...  \n",
       "..                                                 ...  \n",
       "452  [92, 118, 140, 247, 248, 1227, 1993, 2259, 236...  \n",
       "453  [94, 97, 78, 102, 125, 184, 189, 191, 200, 229...  \n",
       "454   [927, 1417, 1472, 1671, 1701, 2373, 2793, 24468]  \n",
       "455  [537, 622, 790, 945, 994, 1016, 1018, 1304, 13...  \n",
       "456  [141, 1488, 2849, 36416, 37861, 23968, 40769, ...  \n",
       "\n",
       "[457 rows x 3 columns]"
      ]
     },
     "execution_count": 93,
     "metadata": {},
     "output_type": "execute_result"
    }
   ],
   "source": [
    "topics_df"
   ]
  },
  {
   "attachments": {},
   "cell_type": "markdown",
   "metadata": {},
   "source": [
    "Tokenize text"
   ]
  },
  {
   "cell_type": "code",
   "execution_count": 66,
   "metadata": {},
   "outputs": [
    {
     "name": "stderr",
     "output_type": "stream",
     "text": [
      "[nltk_data] Downloading package punkt to\n",
      "[nltk_data]     C:\\Users\\Dawid\\AppData\\Roaming\\nltk_data...\n",
      "[nltk_data]   Package punkt is already up-to-date!\n"
     ]
    },
    {
     "data": {
      "text/plain": [
       "True"
      ]
     },
     "execution_count": 66,
     "metadata": {},
     "output_type": "execute_result"
    }
   ],
   "source": [
    "import nltk\n",
    "nltk.download('punkt')"
   ]
  },
  {
   "cell_type": "code",
   "execution_count": 94,
   "metadata": {},
   "outputs": [],
   "source": [
    "topics_df['corpus'] = topics_df['corpus'].apply(lambda corpus: nltk.word_tokenize(corpus.lower()))"
   ]
  },
  {
   "cell_type": "code",
   "execution_count": 95,
   "metadata": {},
   "outputs": [
    {
     "data": {
      "text/html": [
       "<div>\n",
       "<style scoped>\n",
       "    .dataframe tbody tr th:only-of-type {\n",
       "        vertical-align: middle;\n",
       "    }\n",
       "\n",
       "    .dataframe tbody tr th {\n",
       "        vertical-align: top;\n",
       "    }\n",
       "\n",
       "    .dataframe thead th {\n",
       "        text-align: right;\n",
       "    }\n",
       "</style>\n",
       "<table border=\"1\" class=\"dataframe\">\n",
       "  <thead>\n",
       "    <tr style=\"text-align: right;\">\n",
       "      <th></th>\n",
       "      <th>topic</th>\n",
       "      <th>corpus</th>\n",
       "      <th>talk_ids</th>\n",
       "    </tr>\n",
       "  </thead>\n",
       "  <tbody>\n",
       "    <tr>\n",
       "      <th>0</th>\n",
       "      <td>family</td>\n",
       "      <td>[some, of, you, have, heard, the, story, befor...</td>\n",
       "      <td>[297, 1368, 1369, 1498, 1601, 1675, 1694, 1756...</td>\n",
       "    </tr>\n",
       "    <tr>\n",
       "      <th>1</th>\n",
       "      <td>illusion</td>\n",
       "      <td>[im, michael, shermer, director, of, the, skep...</td>\n",
       "      <td>[22, 78, 32, 102, 184, 310, 327, 333, 364, 375...</td>\n",
       "    </tr>\n",
       "    <tr>\n",
       "      <th>2</th>\n",
       "      <td>creativity</td>\n",
       "      <td>[good, morning, how, are, you, and, youre, nev...</td>\n",
       "      <td>[66, 46, 27, 32, 103, 122, 162, 187, 13, 219, ...</td>\n",
       "    </tr>\n",
       "    <tr>\n",
       "      <th>3</th>\n",
       "      <td>refugees</td>\n",
       "      <td>[so, i, started, working, with, refugees, beca...</td>\n",
       "      <td>[2110, 2449, 2541, 2543, 2569, 2683, 2687, 272...</td>\n",
       "    </tr>\n",
       "    <tr>\n",
       "      <th>4</th>\n",
       "      <td>teaching</td>\n",
       "      <td>[good, morning, how, are, you, and, youre, nev...</td>\n",
       "      <td>[66, 233, 175, 809, 855, 887, 1090, 1592, 1649...</td>\n",
       "    </tr>\n",
       "    <tr>\n",
       "      <th>...</th>\n",
       "      <td>...</td>\n",
       "      <td>...</td>\n",
       "      <td>...</td>\n",
       "    </tr>\n",
       "    <tr>\n",
       "      <th>452</th>\n",
       "      <td>Google</td>\n",
       "      <td>[about, years, ago, i, took, on, the, task, to...</td>\n",
       "      <td>[92, 118, 140, 247, 248, 1227, 1993, 2259, 236...</td>\n",
       "    </tr>\n",
       "    <tr>\n",
       "      <th>453</th>\n",
       "      <td>brain</td>\n",
       "      <td>[its, wonderful, to, be, back, i, love, this, ...</td>\n",
       "      <td>[94, 97, 78, 102, 125, 184, 189, 191, 200, 229...</td>\n",
       "    </tr>\n",
       "    <tr>\n",
       "      <th>454</th>\n",
       "      <td>monkeys</td>\n",
       "      <td>[i, want, to, start, my, talk, today, with, tw...</td>\n",
       "      <td>[927, 1417, 1472, 1671, 1701, 2373, 2793, 24468]</td>\n",
       "    </tr>\n",
       "    <tr>\n",
       "      <th>455</th>\n",
       "      <td>agriculture</td>\n",
       "      <td>[im, not, at, all, a, cook, so, dont, fear, th...</td>\n",
       "      <td>[537, 622, 790, 945, 994, 1016, 1018, 1304, 13...</td>\n",
       "    </tr>\n",
       "    <tr>\n",
       "      <th>456</th>\n",
       "      <td>Moon</td>\n",
       "      <td>[first, place, id, like, to, take, you, is, wh...</td>\n",
       "      <td>[141, 1488, 2849, 36416, 37861, 23968, 40769, ...</td>\n",
       "    </tr>\n",
       "  </tbody>\n",
       "</table>\n",
       "<p>457 rows × 3 columns</p>\n",
       "</div>"
      ],
      "text/plain": [
       "           topic                                             corpus  \\\n",
       "0         family  [some, of, you, have, heard, the, story, befor...   \n",
       "1       illusion  [im, michael, shermer, director, of, the, skep...   \n",
       "2     creativity  [good, morning, how, are, you, and, youre, nev...   \n",
       "3       refugees  [so, i, started, working, with, refugees, beca...   \n",
       "4       teaching  [good, morning, how, are, you, and, youre, nev...   \n",
       "..           ...                                                ...   \n",
       "452       Google  [about, years, ago, i, took, on, the, task, to...   \n",
       "453        brain  [its, wonderful, to, be, back, i, love, this, ...   \n",
       "454      monkeys  [i, want, to, start, my, talk, today, with, tw...   \n",
       "455  agriculture  [im, not, at, all, a, cook, so, dont, fear, th...   \n",
       "456         Moon  [first, place, id, like, to, take, you, is, wh...   \n",
       "\n",
       "                                              talk_ids  \n",
       "0    [297, 1368, 1369, 1498, 1601, 1675, 1694, 1756...  \n",
       "1    [22, 78, 32, 102, 184, 310, 327, 333, 364, 375...  \n",
       "2    [66, 46, 27, 32, 103, 122, 162, 187, 13, 219, ...  \n",
       "3    [2110, 2449, 2541, 2543, 2569, 2683, 2687, 272...  \n",
       "4    [66, 233, 175, 809, 855, 887, 1090, 1592, 1649...  \n",
       "..                                                 ...  \n",
       "452  [92, 118, 140, 247, 248, 1227, 1993, 2259, 236...  \n",
       "453  [94, 97, 78, 102, 125, 184, 189, 191, 200, 229...  \n",
       "454   [927, 1417, 1472, 1671, 1701, 2373, 2793, 24468]  \n",
       "455  [537, 622, 790, 945, 994, 1016, 1018, 1304, 13...  \n",
       "456  [141, 1488, 2849, 36416, 37861, 23968, 40769, ...  \n",
       "\n",
       "[457 rows x 3 columns]"
      ]
     },
     "execution_count": 95,
     "metadata": {},
     "output_type": "execute_result"
    }
   ],
   "source": [
    "topics_df"
   ]
  },
  {
   "attachments": {},
   "cell_type": "markdown",
   "metadata": {},
   "source": [
    "Remove stop words"
   ]
  },
  {
   "cell_type": "code",
   "execution_count": 68,
   "metadata": {},
   "outputs": [
    {
     "name": "stderr",
     "output_type": "stream",
     "text": [
      "[nltk_data] Downloading package stopwords to\n",
      "[nltk_data]     C:\\Users\\Dawid\\AppData\\Roaming\\nltk_data...\n",
      "[nltk_data]   Package stopwords is already up-to-date!\n"
     ]
    },
    {
     "data": {
      "text/plain": [
       "True"
      ]
     },
     "execution_count": 68,
     "metadata": {},
     "output_type": "execute_result"
    }
   ],
   "source": [
    "from nltk.corpus import stopwords\n",
    "nltk.download('stopwords')"
   ]
  },
  {
   "cell_type": "code",
   "execution_count": 69,
   "metadata": {},
   "outputs": [],
   "source": [
    "stop_words = set(stopwords.words('english'))"
   ]
  },
  {
   "cell_type": "code",
   "execution_count": 96,
   "metadata": {},
   "outputs": [],
   "source": [
    "topics_df['corpus'] = topics_df['corpus'].apply(lambda tokens: [word for word in tokens if word.casefold() not in stop_words])"
   ]
  },
  {
   "cell_type": "code",
   "execution_count": 100,
   "metadata": {},
   "outputs": [
    {
     "data": {
      "text/html": [
       "<div>\n",
       "<style scoped>\n",
       "    .dataframe tbody tr th:only-of-type {\n",
       "        vertical-align: middle;\n",
       "    }\n",
       "\n",
       "    .dataframe tbody tr th {\n",
       "        vertical-align: top;\n",
       "    }\n",
       "\n",
       "    .dataframe thead th {\n",
       "        text-align: right;\n",
       "    }\n",
       "</style>\n",
       "<table border=\"1\" class=\"dataframe\">\n",
       "  <thead>\n",
       "    <tr style=\"text-align: right;\">\n",
       "      <th></th>\n",
       "      <th>topic</th>\n",
       "      <th>corpus</th>\n",
       "      <th>talk_ids</th>\n",
       "    </tr>\n",
       "  </thead>\n",
       "  <tbody>\n",
       "    <tr>\n",
       "      <th>0</th>\n",
       "      <td>family</td>\n",
       "      <td>[heard, story, fact, theres, somebody, audienc...</td>\n",
       "      <td>[297, 1368, 1369, 1498, 1601, 1675, 1694, 1756...</td>\n",
       "    </tr>\n",
       "    <tr>\n",
       "      <th>1</th>\n",
       "      <td>illusion</td>\n",
       "      <td>[im, michael, shermer, director, skeptics, soc...</td>\n",
       "      <td>[22, 78, 32, 102, 184, 310, 327, 333, 364, 375...</td>\n",
       "    </tr>\n",
       "    <tr>\n",
       "      <th>2</th>\n",
       "      <td>creativity</td>\n",
       "      <td>[good, morning, youre, never, asked, back, cur...</td>\n",
       "      <td>[66, 46, 27, 32, 103, 122, 162, 187, 13, 219, ...</td>\n",
       "    </tr>\n",
       "    <tr>\n",
       "      <th>3</th>\n",
       "      <td>refugees</td>\n",
       "      <td>[started, working, refugees, wanted, make, dif...</td>\n",
       "      <td>[2110, 2449, 2541, 2543, 2569, 2683, 2687, 272...</td>\n",
       "    </tr>\n",
       "    <tr>\n",
       "      <th>4</th>\n",
       "      <td>teaching</td>\n",
       "      <td>[good, morning, youre, never, asked, back, cur...</td>\n",
       "      <td>[66, 233, 175, 809, 855, 887, 1090, 1592, 1649...</td>\n",
       "    </tr>\n",
       "    <tr>\n",
       "      <th>...</th>\n",
       "      <td>...</td>\n",
       "      <td>...</td>\n",
       "      <td>...</td>\n",
       "    </tr>\n",
       "    <tr>\n",
       "      <th>452</th>\n",
       "      <td>Google</td>\n",
       "      <td>[years, ago, took, task, teach, global, develo...</td>\n",
       "      <td>[92, 118, 140, 247, 248, 1227, 1993, 2259, 236...</td>\n",
       "    </tr>\n",
       "    <tr>\n",
       "      <th>453</th>\n",
       "      <td>brain</td>\n",
       "      <td>[wonderful, back, love, wonderful, gathering, ...</td>\n",
       "      <td>[94, 97, 78, 102, 125, 184, 189, 191, 200, 229...</td>\n",
       "    </tr>\n",
       "    <tr>\n",
       "      <th>454</th>\n",
       "      <td>monkeys</td>\n",
       "      <td>[want, start, talk, today, two, observations, ...</td>\n",
       "      <td>[927, 1417, 1472, 1671, 1701, 2373, 2793, 24468]</td>\n",
       "    </tr>\n",
       "    <tr>\n",
       "      <th>455</th>\n",
       "      <td>agriculture</td>\n",
       "      <td>[im, cook, dont, fear, going, cooking, demonst...</td>\n",
       "      <td>[537, 622, 790, 945, 994, 1016, 1018, 1304, 13...</td>\n",
       "    </tr>\n",
       "    <tr>\n",
       "      <th>456</th>\n",
       "      <td>Moon</td>\n",
       "      <td>[first, place, id, like, take, many, believe, ...</td>\n",
       "      <td>[141, 1488, 2849, 36416, 37861, 23968, 40769, ...</td>\n",
       "    </tr>\n",
       "  </tbody>\n",
       "</table>\n",
       "<p>457 rows × 3 columns</p>\n",
       "</div>"
      ],
      "text/plain": [
       "           topic                                             corpus  \\\n",
       "0         family  [heard, story, fact, theres, somebody, audienc...   \n",
       "1       illusion  [im, michael, shermer, director, skeptics, soc...   \n",
       "2     creativity  [good, morning, youre, never, asked, back, cur...   \n",
       "3       refugees  [started, working, refugees, wanted, make, dif...   \n",
       "4       teaching  [good, morning, youre, never, asked, back, cur...   \n",
       "..           ...                                                ...   \n",
       "452       Google  [years, ago, took, task, teach, global, develo...   \n",
       "453        brain  [wonderful, back, love, wonderful, gathering, ...   \n",
       "454      monkeys  [want, start, talk, today, two, observations, ...   \n",
       "455  agriculture  [im, cook, dont, fear, going, cooking, demonst...   \n",
       "456         Moon  [first, place, id, like, take, many, believe, ...   \n",
       "\n",
       "                                              talk_ids  \n",
       "0    [297, 1368, 1369, 1498, 1601, 1675, 1694, 1756...  \n",
       "1    [22, 78, 32, 102, 184, 310, 327, 333, 364, 375...  \n",
       "2    [66, 46, 27, 32, 103, 122, 162, 187, 13, 219, ...  \n",
       "3    [2110, 2449, 2541, 2543, 2569, 2683, 2687, 272...  \n",
       "4    [66, 233, 175, 809, 855, 887, 1090, 1592, 1649...  \n",
       "..                                                 ...  \n",
       "452  [92, 118, 140, 247, 248, 1227, 1993, 2259, 236...  \n",
       "453  [94, 97, 78, 102, 125, 184, 189, 191, 200, 229...  \n",
       "454   [927, 1417, 1472, 1671, 1701, 2373, 2793, 24468]  \n",
       "455  [537, 622, 790, 945, 994, 1016, 1018, 1304, 13...  \n",
       "456  [141, 1488, 2849, 36416, 37861, 23968, 40769, ...  \n",
       "\n",
       "[457 rows x 3 columns]"
      ]
     },
     "execution_count": 100,
     "metadata": {},
     "output_type": "execute_result"
    }
   ],
   "source": [
    "topics_df"
   ]
  },
  {
   "attachments": {},
   "cell_type": "markdown",
   "metadata": {},
   "source": [
    "Tag words"
   ]
  },
  {
   "cell_type": "code",
   "execution_count": null,
   "metadata": {},
   "outputs": [
    {
     "name": "stderr",
     "output_type": "stream",
     "text": [
      "[nltk_data] Downloading package averaged_perceptron_tagger to\n",
      "[nltk_data]     C:\\Users\\Dawid\\AppData\\Roaming\\nltk_data...\n",
      "[nltk_data]   Package averaged_perceptron_tagger is already up-to-\n",
      "[nltk_data]       date!\n"
     ]
    },
    {
     "data": {
      "text/plain": [
       "True"
      ]
     },
     "execution_count": 71,
     "metadata": {},
     "output_type": "execute_result"
    }
   ],
   "source": [
    "# nltk.download('averaged_perceptron_tagger')"
   ]
  },
  {
   "cell_type": "code",
   "execution_count": 148,
   "metadata": {},
   "outputs": [],
   "source": [
    "# topics_df['corpus'] = topics_df['corpus'].apply(lambda words: nltk.pos_tag(words))"
   ]
  },
  {
   "attachments": {},
   "cell_type": "markdown",
   "metadata": {},
   "source": [
    "Leave only nouns and adjectives"
   ]
  },
  {
   "cell_type": "code",
   "execution_count": null,
   "metadata": {},
   "outputs": [],
   "source": [
    "# topics_df['corpus'] = topics_df['corpus'].apply(lambda pos: [word for word, tag in pos if tag.startswith('N') or tag.startswith('J')])"
   ]
  },
  {
   "cell_type": "code",
   "execution_count": null,
   "metadata": {},
   "outputs": [],
   "source": [
    "# topics_df"
   ]
  },
  {
   "attachments": {},
   "cell_type": "markdown",
   "metadata": {},
   "source": [
    "Lemmatize text"
   ]
  },
  {
   "cell_type": "code",
   "execution_count": 103,
   "metadata": {},
   "outputs": [
    {
     "name": "stderr",
     "output_type": "stream",
     "text": [
      "[nltk_data] Downloading package wordnet to\n",
      "[nltk_data]     C:\\Users\\Dawid\\AppData\\Roaming\\nltk_data...\n"
     ]
    }
   ],
   "source": [
    "from nltk.stem import WordNetLemmatizer\n",
    "nltk.download('wordnet')\n",
    "\n",
    "lemmatizer = WordNetLemmatizer()"
   ]
  },
  {
   "cell_type": "code",
   "execution_count": 104,
   "metadata": {},
   "outputs": [],
   "source": [
    "topics_df['corpus'] = topics_df['corpus'].apply(lambda words: [lemmatizer.lemmatize(word) for word in words])"
   ]
  },
  {
   "cell_type": "code",
   "execution_count": 105,
   "metadata": {},
   "outputs": [
    {
     "data": {
      "text/html": [
       "<div>\n",
       "<style scoped>\n",
       "    .dataframe tbody tr th:only-of-type {\n",
       "        vertical-align: middle;\n",
       "    }\n",
       "\n",
       "    .dataframe tbody tr th {\n",
       "        vertical-align: top;\n",
       "    }\n",
       "\n",
       "    .dataframe thead th {\n",
       "        text-align: right;\n",
       "    }\n",
       "</style>\n",
       "<table border=\"1\" class=\"dataframe\">\n",
       "  <thead>\n",
       "    <tr style=\"text-align: right;\">\n",
       "      <th></th>\n",
       "      <th>topic</th>\n",
       "      <th>corpus</th>\n",
       "      <th>talk_ids</th>\n",
       "    </tr>\n",
       "  </thead>\n",
       "  <tbody>\n",
       "    <tr>\n",
       "      <th>0</th>\n",
       "      <td>family</td>\n",
       "      <td>[heard, story, fact, there, somebody, audience...</td>\n",
       "      <td>[297, 1368, 1369, 1498, 1601, 1675, 1694, 1756...</td>\n",
       "    </tr>\n",
       "    <tr>\n",
       "      <th>1</th>\n",
       "      <td>illusion</td>\n",
       "      <td>[im, michael, shermer, director, skeptic, soci...</td>\n",
       "      <td>[22, 78, 32, 102, 184, 310, 327, 333, 364, 375...</td>\n",
       "    </tr>\n",
       "    <tr>\n",
       "      <th>2</th>\n",
       "      <td>creativity</td>\n",
       "      <td>[good, morning, youre, never, asked, back, cur...</td>\n",
       "      <td>[66, 46, 27, 32, 103, 122, 162, 187, 13, 219, ...</td>\n",
       "    </tr>\n",
       "    <tr>\n",
       "      <th>3</th>\n",
       "      <td>refugees</td>\n",
       "      <td>[started, working, refugee, wanted, make, diff...</td>\n",
       "      <td>[2110, 2449, 2541, 2543, 2569, 2683, 2687, 272...</td>\n",
       "    </tr>\n",
       "    <tr>\n",
       "      <th>4</th>\n",
       "      <td>teaching</td>\n",
       "      <td>[good, morning, youre, never, asked, back, cur...</td>\n",
       "      <td>[66, 233, 175, 809, 855, 887, 1090, 1592, 1649...</td>\n",
       "    </tr>\n",
       "    <tr>\n",
       "      <th>...</th>\n",
       "      <td>...</td>\n",
       "      <td>...</td>\n",
       "      <td>...</td>\n",
       "    </tr>\n",
       "    <tr>\n",
       "      <th>452</th>\n",
       "      <td>Google</td>\n",
       "      <td>[year, ago, took, task, teach, global, develop...</td>\n",
       "      <td>[92, 118, 140, 247, 248, 1227, 1993, 2259, 236...</td>\n",
       "    </tr>\n",
       "    <tr>\n",
       "      <th>453</th>\n",
       "      <td>brain</td>\n",
       "      <td>[wonderful, back, love, wonderful, gathering, ...</td>\n",
       "      <td>[94, 97, 78, 102, 125, 184, 189, 191, 200, 229...</td>\n",
       "    </tr>\n",
       "    <tr>\n",
       "      <th>454</th>\n",
       "      <td>monkeys</td>\n",
       "      <td>[want, start, talk, today, two, observation, h...</td>\n",
       "      <td>[927, 1417, 1472, 1671, 1701, 2373, 2793, 24468]</td>\n",
       "    </tr>\n",
       "    <tr>\n",
       "      <th>455</th>\n",
       "      <td>agriculture</td>\n",
       "      <td>[im, cook, dont, fear, going, cooking, demonst...</td>\n",
       "      <td>[537, 622, 790, 945, 994, 1016, 1018, 1304, 13...</td>\n",
       "    </tr>\n",
       "    <tr>\n",
       "      <th>456</th>\n",
       "      <td>Moon</td>\n",
       "      <td>[first, place, id, like, take, many, believe, ...</td>\n",
       "      <td>[141, 1488, 2849, 36416, 37861, 23968, 40769, ...</td>\n",
       "    </tr>\n",
       "  </tbody>\n",
       "</table>\n",
       "<p>457 rows × 3 columns</p>\n",
       "</div>"
      ],
      "text/plain": [
       "           topic                                             corpus  \\\n",
       "0         family  [heard, story, fact, there, somebody, audience...   \n",
       "1       illusion  [im, michael, shermer, director, skeptic, soci...   \n",
       "2     creativity  [good, morning, youre, never, asked, back, cur...   \n",
       "3       refugees  [started, working, refugee, wanted, make, diff...   \n",
       "4       teaching  [good, morning, youre, never, asked, back, cur...   \n",
       "..           ...                                                ...   \n",
       "452       Google  [year, ago, took, task, teach, global, develop...   \n",
       "453        brain  [wonderful, back, love, wonderful, gathering, ...   \n",
       "454      monkeys  [want, start, talk, today, two, observation, h...   \n",
       "455  agriculture  [im, cook, dont, fear, going, cooking, demonst...   \n",
       "456         Moon  [first, place, id, like, take, many, believe, ...   \n",
       "\n",
       "                                              talk_ids  \n",
       "0    [297, 1368, 1369, 1498, 1601, 1675, 1694, 1756...  \n",
       "1    [22, 78, 32, 102, 184, 310, 327, 333, 364, 375...  \n",
       "2    [66, 46, 27, 32, 103, 122, 162, 187, 13, 219, ...  \n",
       "3    [2110, 2449, 2541, 2543, 2569, 2683, 2687, 272...  \n",
       "4    [66, 233, 175, 809, 855, 887, 1090, 1592, 1649...  \n",
       "..                                                 ...  \n",
       "452  [92, 118, 140, 247, 248, 1227, 1993, 2259, 236...  \n",
       "453  [94, 97, 78, 102, 125, 184, 189, 191, 200, 229...  \n",
       "454   [927, 1417, 1472, 1671, 1701, 2373, 2793, 24468]  \n",
       "455  [537, 622, 790, 945, 994, 1016, 1018, 1304, 13...  \n",
       "456  [141, 1488, 2849, 36416, 37861, 23968, 40769, ...  \n",
       "\n",
       "[457 rows x 3 columns]"
      ]
     },
     "execution_count": 105,
     "metadata": {},
     "output_type": "execute_result"
    }
   ],
   "source": [
    "topics_df"
   ]
  },
  {
   "attachments": {},
   "cell_type": "markdown",
   "metadata": {},
   "source": [
    "Save data"
   ]
  },
  {
   "cell_type": "code",
   "execution_count": null,
   "metadata": {},
   "outputs": [],
   "source": [
    "topics_df.to_csv('data\\\\topics_data.csv', sep=',')"
   ]
  },
  {
   "attachments": {},
   "cell_type": "markdown",
   "metadata": {},
   "source": [
    "Word Clouds for topics"
   ]
  },
  {
   "cell_type": "code",
   "execution_count": 112,
   "metadata": {},
   "outputs": [],
   "source": [
    "from wordcloud import WordCloud, STOPWORDS, ImageColorGenerator\n",
    "import matplotlib.pyplot as plt"
   ]
  },
  {
   "cell_type": "code",
   "execution_count": 147,
   "metadata": {},
   "outputs": [
    {
     "name": "stdout",
     "output_type": "stream",
     "text": [
      "creativity\n"
     ]
    },
    {
     "data": {
      "image/png": "[encoded data removed]",
      "text/plain": [
       "<Figure size 432x288 with 1 Axes>"
      ]
     },
     "metadata": {
      "needs_background": "light"
     },
     "output_type": "display_data"
    }
   ],
   "source": [
    "topic = None\n",
    "while not topic:\n",
    "    choice = input(\"Choose topic: \")\n",
    "    if choice in topics_df['topic'].values:\n",
    "        topic = choice\n",
    "    else:\n",
    "        print(\"Topic not in database, try again.\")\n",
    "        \n",
    "text = ' '.join(topics_df[topics_df['topic'] == topic]['corpus'].values[0])\n",
    "wordcloud = WordCloud().generate(text)\n",
    "\n",
    "plt.imshow(wordcloud, interpolation='bilinear')\n",
    "plt.axis(\"off\")\n",
    "\n",
    "print(topic)\n",
    "plt.show()"
   ]
  }
 ],
 "metadata": {
  "kernelspec": {
   "display_name": "Python 3",
   "language": "python",
   "name": "python3"
  },
  "language_info": {
   "codemirror_mode": {
    "name": "ipython",
    "version": 3
   },
   "file_extension": ".py",
   "mimetype": "text/x-python",
   "name": "python",
   "nbconvert_exporter": "python",
   "pygments_lexer": "ipython3",
   "version": "3.10.8"
  },
  "orig_nbformat": 4
 },
 "nbformat": 4,
 "nbformat_minor": 2
}
